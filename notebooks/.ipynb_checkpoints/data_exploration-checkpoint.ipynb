{
 "cells": [
  {
   "cell_type": "code",
   "execution_count": null,
   "metadata": {},
   "outputs": [],
   "source": [
    "import pandas as pd\n",
    "import numpy as np\n",
    "import matplotlib.pyplot as plt\n",
    "import seaborn as sns\n",
    "import logging\n",
    "\n",
    "# Configure logging\n",
    "logging.basicConfig(filename='../logs/pipeline.log', level=logging.INFO, format='%(asctime)s - %(levelname)s - %(message)s')\n"
   ]
  },
  {
   "cell_type": "code",
   "execution_count": null,
   "metadata": {},
   "outputs": [],
   "source": [
    "# Load data\n",
    "def load_data(filepath):\n",
    "    \"\"\"Load hyperspectral data from a CSV file.\"\"\"\n",
    "    df = pd.read_csv(filepath)\n",
    "    logging.info(f\"Data loaded successfully with shape: {df.shape}\")\n",
    "    return df"
   ]
  },
  {
   "cell_type": "code",
   "execution_count": null,
   "metadata": {},
   "outputs": [],
   "source": [
    "\n",
    "# Load dataset\n",
    "data_path = 'E:\\\\hyperspectral_don_prediction\\\\data\\\\MLE-Assignment.csv'\n",
    "df = load_data(data_path)\n"
   ]
  },
  {
   "cell_type": "code",
   "execution_count": null,
   "metadata": {},
   "outputs": [],
   "source": [
    "# Display basic info\n",
    "logging.info(\"Dataset Information:\")\n",
    "logging.info(df.info())"
   ]
  },
  {
   "cell_type": "code",
   "execution_count": null,
   "metadata": {},
   "outputs": [],
   "source": [
    "\n",
    "# Check for missing values\n",
    "missing_values = df.isnull().sum()\n",
    "logging.info(\"\\nMissing values per column:\")\n",
    "logging.info(missing_values[missing_values > 0])"
   ]
  },
  {
   "cell_type": "code",
   "execution_count": null,
   "metadata": {},
   "outputs": [],
   "source": [
    "# Distribution of DON concentration\n",
    "plt.figure(figsize=(8, 6))\n",
    "sns.histplot(df['vomitoxin_ppb'], bins=30, kde=True, color='blue')\n",
    "plt.title(\"Distribution of DON Concentration\")\n",
    "plt.xlabel(\"DON Concentration (ppb)\")\n",
    "plt.ylabel(\"Frequency\")\n",
    "plt.savefig('../images/don_distribution.png')\n",
    "plt.show()"
   ]
  },
  {
   "cell_type": "code",
   "execution_count": null,
   "metadata": {},
   "outputs": [],
   "source": [
    "# Boxplot to identify outliers\n",
    "plt.figure(figsize=(8, 6))\n",
    "sns.boxplot(x=df['vomitoxin_ppb'], color='orange')\n",
    "plt.title(\"Boxplot of DON Concentration\")\n",
    "plt.xlabel(\"DON Concentration (ppb)\")\n",
    "plt.savefig('../images/don_boxplot.png')\n",
    "plt.show()"
   ]
  },
  {
   "cell_type": "code",
   "execution_count": null,
   "metadata": {},
   "outputs": [],
   "source": [
    "\n",
    "# Correlation heatmap (for a subset of bands)\n",
    "plt.figure(figsize=(10, 8))\n",
    "sns.heatmap(df.iloc[:, 1:21].corr(), cmap='coolwarm', annot=False)\n",
    "plt.title(\"Correlation Heatmap of First 20 Wavelength Bands\")\n",
    "plt.savefig('../images/correlation_heatmap.png')\n",
    "plt.show()"
   ]
  },
  {
   "cell_type": "code",
   "execution_count": null,
   "metadata": {},
   "outputs": [],
   "source": []
  },
  {
   "cell_type": "code",
   "execution_count": null,
   "metadata": {},
   "outputs": [],
   "source": []
  }
 ],
 "metadata": {
  "kernelspec": {
   "display_name": "venv",
   "language": "python",
   "name": "python3"
  },
  "language_info": {
   "codemirror_mode": {
    "name": "ipython",
    "version": 3
   },
   "file_extension": ".py",
   "mimetype": "text/x-python",
   "name": "python",
   "nbconvert_exporter": "python",
   "pygments_lexer": "ipython3",
   "version": "3.9.0"
  }
 },
 "nbformat": 4,
 "nbformat_minor": 2
}
